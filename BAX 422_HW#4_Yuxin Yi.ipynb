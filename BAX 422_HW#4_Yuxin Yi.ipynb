{
 "cells": [
  {
   "cell_type": "markdown",
   "metadata": {},
   "source": [
    "##### **BAX 422 HW#4**\n",
    "##### Yuxin (Raychel) Yi\n",
    "##### Team 6: Yuxin (Raychel) Yi, Tien (Candice) Her, Manickashree Thayumana Sundaram"
   ]
  },
  {
   "cell_type": "code",
   "execution_count": 4,
   "metadata": {},
   "outputs": [],
   "source": [
    "from selenium import webdriver\n",
    "from selenium.webdriver.chrome.service import Service\n",
    "from selenium.webdriver.common.by import By\n",
    "from selenium.webdriver.common.keys import Keys\n",
    "import time\n",
    "from bs4 import BeautifulSoup\n",
    "import re"
   ]
  },
  {
   "cell_type": "markdown",
   "metadata": {},
   "source": [
    "(1)  Please get Selenium to work on your system.  I.e., try to code something up in Java or Python that starts a browser of your choice, navigates to google.com, and searches for \"askew\" (we did this in class, please review the code) as well as \"google in 1998\" (separate searches!)\n",
    "\n",
    "1. Searches for \"askew\""
   ]
  },
  {
   "cell_type": "code",
   "execution_count": 5,
   "metadata": {},
   "outputs": [],
   "source": [
    "driver = webdriver.Chrome()\n",
    "\n",
    "driver.implicitly_wait(10)\n",
    "driver.set_script_timeout(120)\n",
    "driver.set_page_load_timeout(10)\n",
    "\n",
    "driver.get('https://google.com')\n",
    "\n",
    "input = driver.find_element(By.CSS_SELECTOR, 'textarea[title=\"Search\"]')\n",
    "input.send_keys('askew\\n')\n",
    "\n",
    "time.sleep(10)\n",
    "\n",
    "driver.quit()"
   ]
  },
  {
   "cell_type": "markdown",
   "metadata": {},
   "source": [
    "2. Searches for \"google in 1998\" "
   ]
  },
  {
   "cell_type": "code",
   "execution_count": 6,
   "metadata": {},
   "outputs": [],
   "source": [
    "driver = webdriver.Chrome()\n",
    "\n",
    "driver.implicitly_wait(10)\n",
    "driver.set_script_timeout(120)\n",
    "driver.set_page_load_timeout(10)\n",
    "\n",
    "driver.get('https://google.com')\n",
    "\n",
    "input = driver.find_element(By.CSS_SELECTOR, 'textarea[title=\"Search\"]')\n",
    "input.send_keys('google in 1998\\n')\n",
    "\n",
    "time.sleep(10)\n",
    "\n",
    "driver.quit()"
   ]
  },
  {
   "cell_type": "markdown",
   "metadata": {},
   "source": [
    "(2)  Write a script that goes to bestbuy.com, clicks on Deal of the Day, reads how much time is left for the Deal of the Day and prints the remaining time to screen (console), clicks on the Deal of the Day (the actual product), clicks on its reviews, and saves the resulting HTML to your local hard drive as \"bestbuy_deal_of_the_day.htm\"."
   ]
  },
  {
   "cell_type": "code",
   "execution_count": 7,
   "metadata": {},
   "outputs": [
    {
     "name": "stdout",
     "output_type": "stream",
     "text": [
      "The time left for the Deal of the Day: 10 hours, 23 minutes, 44 seconds\n"
     ]
    }
   ],
   "source": [
    "driver = webdriver.Chrome()\n",
    "\n",
    "driver.implicitly_wait(10)\n",
    "driver.set_script_timeout(120)\n",
    "driver.set_page_load_timeout(10)\n",
    "\n",
    "driver.get('https://bestbuy.com')\n",
    "\n",
    "# Click 'Deal of the Day'\n",
    "deal = driver.find_element(By.XPATH, '//a[contains(text(), \"Deal of the Day\")]')\n",
    "deal.click()\n",
    "time.sleep(3)\n",
    "\n",
    "# Read time left for the deal\n",
    "hours = driver.find_element(By.CSS_SELECTOR, 'span[class = \"hours cdnumber\"]')\n",
    "minutes = driver.find_element(By.CSS_SELECTOR, 'span[class = \"minutes cdnumber\"]')\n",
    "seconds = driver.find_element(By.CSS_SELECTOR, 'span[class = \"seconds cdnumber\"]')\n",
    "\n",
    "# Print the time left for the deal\n",
    "print(f\"The time left for the Deal of the Day: {hours.text} hours, {minutes.text} minutes, {seconds.text} seconds\")\n",
    "\n",
    "time.sleep(3)\n",
    "\n",
    "# Click on the actual product\n",
    "product = driver.find_element(By.CSS_SELECTOR, '.wf-offer-image')\n",
    "product.click()\n",
    "time.sleep(3)\n",
    "\n",
    "# Click on its reviews\n",
    "reviews = driver.find_element(By.XPATH, '//a[contains(text(), \"See All Customer Reviews\")]')\n",
    "reviews.click()\n",
    "time.sleep(3)\n",
    "\n",
    "\n",
    "## Save the resulting page\t\n",
    "filename=\"bestbuy_deal_of_the_day.htm\"\n",
    "revies = driver.page_source\n",
    "file = open(filename, \"w\", encoding='utf-8')\n",
    "file.write(str(revies))\n",
    "file.close()\n",
    "\n",
    "time.sleep(10)\n",
    "\n",
    "driver.quit()\n"
   ]
  },
  {
   "cell_type": "markdown",
   "metadata": {},
   "source": [
    "(3) Write a script that goes to lavazzausa.com, rejects all cookies, then clicks on \"Products\", then on \"Capsule coffee machines\", save the resulting page to the file \"lavazza.htm\", and close the browser.  Subsequently write code that opens the saved \"lavazza.htm\" file and find the original price of the \"Classy Plus Bundle\" and prints it to screen (please use BeautifulSoup for this)."
   ]
  },
  {
   "cell_type": "code",
   "execution_count": 8,
   "metadata": {},
   "outputs": [],
   "source": [
    "driver = webdriver.Chrome()\n",
    "\n",
    "driver.implicitly_wait(10)\n",
    "driver.set_script_timeout(120)\n",
    "driver.set_page_load_timeout(10)\n",
    "\n",
    "driver.get('https://lavazzausa.com')\n",
    "\n",
    "# Reject all cookies\n",
    "Reject = driver.find_element(By.CSS_SELECTOR, 'div[id = \"consent_prompt_reject\"]')\n",
    "Reject.click()\n",
    "time.sleep(3)\n",
    "\n",
    "# Click on \"Products\"\n",
    "Products = driver.find_element(By.XPATH, '//a[contains(text(), \"PRODUCTS\")]')\n",
    "Products.click()\n",
    "time.sleep(3)\n",
    "\n",
    "# Click on \" coffee machines\"\n",
    "coffee_machines = driver.find_element(By.XPATH, '//div[contains(text(), \"COFFEE MACHINES\")]')\n",
    "Products.click()\n",
    "time.sleep(3)\n",
    "\n",
    "# Click on \"Capsule coffee machines\"\n",
    "Products = driver.find_element(By.XPATH, '//a[contains(text(), \"Capsule coffee machines\")]')\n",
    "Products.click()\n",
    "time.sleep(3)\n",
    "\n",
    "# Save the resulting page\n",
    "filename=\"lavazza.htm\"\n",
    "revies = driver.page_source\n",
    "file = open(filename, \"w\", encoding='utf-8')\n",
    "file.write(str(revies))\n",
    "file.close()\n",
    "\n",
    "time.sleep(10)\n",
    "\n",
    "driver.quit()\n"
   ]
  },
  {
   "cell_type": "code",
   "execution_count": 9,
   "metadata": {},
   "outputs": [
    {
     "name": "stdout",
     "output_type": "stream",
     "text": [
      "The original price is: $300.75\n"
     ]
    }
   ],
   "source": [
    "# Open the saved file\n",
    "def loadString(filename=\"lavazza.htm\"):\n",
    "\ttry:\n",
    "\t\thtml = open(filename, \"r\", encoding='utf-8').read()\n",
    "\t\treturn(html)\n",
    "\texcept Exception as ex:\n",
    "\t\tprint('Error: ' + str(ex))\n",
    "\t\t\n",
    "html = loadString()\n",
    "soup = BeautifulSoup(html, 'html.parser')\n",
    "\n",
    "# Print the original price of the \"Classy Plus Bundle\"\n",
    "original_price = soup.find('span', class_='lvz-product-card__pricing--old lvz-product-card__pricing--old-centered')\n",
    "print(f'The original price is:', original_price.text)"
   ]
  }
 ],
 "metadata": {
  "kernelspec": {
   "display_name": "Python 3",
   "language": "python",
   "name": "python3"
  },
  "language_info": {
   "codemirror_mode": {
    "name": "ipython",
    "version": 3
   },
   "file_extension": ".py",
   "mimetype": "text/x-python",
   "name": "python",
   "nbconvert_exporter": "python",
   "pygments_lexer": "ipython3",
   "version": "3.12.1"
  }
 },
 "nbformat": 4,
 "nbformat_minor": 2
}
